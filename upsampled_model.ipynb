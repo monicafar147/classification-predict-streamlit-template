{
  "nbformat": 4,
  "nbformat_minor": 0,
  "metadata": {
    "colab": {
      "name": "upsampled_model.ipynb",
      "provenance": [],
      "include_colab_link": true
    },
    "kernelspec": {
      "display_name": "Python 3",
      "language": "python",
      "name": "python3"
    },
    "language_info": {
      "codemirror_mode": {
        "name": "ipython",
        "version": 3
      },
      "file_extension": ".py",
      "mimetype": "text/x-python",
      "name": "python",
      "nbconvert_exporter": "python",
      "pygments_lexer": "ipython3",
      "version": "3.7.4"
    }
  },
  "cells": [
    {
      "cell_type": "markdown",
      "metadata": {
        "id": "view-in-github",
        "colab_type": "text"
      },
      "source": [
        "<a href=\"https://colab.research.google.com/github/monicafar147/classification-predict-streamlit-template/blob/Modeling/upsampled_model.ipynb\" target=\"_parent\"><img src=\"https://colab.research.google.com/assets/colab-badge.svg\" alt=\"Open In Colab\"/></a>"
      ]
    },
    {
      "cell_type": "code",
      "metadata": {
        "id": "BnQ9rCIRKK_C",
        "colab_type": "code",
        "colab": {
          "base_uri": "https://localhost:8080/",
          "height": 554
        },
        "outputId": "bd08f6ec-374c-4500-d594-076201b6036f"
      },
      "source": [
        "!pip install comet_ml"
      ],
      "execution_count": 1,
      "outputs": [
        {
          "output_type": "stream",
          "text": [
            "Collecting comet_ml\n",
            "\u001b[?25l  Downloading https://files.pythonhosted.org/packages/26/27/bce4a8989b9eb0229294b844086e584d450af883ddac65286246312dc412/comet_ml-3.1.11-py2.py3-none-any.whl (212kB)\n",
            "\r\u001b[K     |█▌                              | 10kB 15.6MB/s eta 0:00:01\r\u001b[K     |███                             | 20kB 2.9MB/s eta 0:00:01\r\u001b[K     |████▋                           | 30kB 3.9MB/s eta 0:00:01\r\u001b[K     |██████▏                         | 40kB 4.3MB/s eta 0:00:01\r\u001b[K     |███████▊                        | 51kB 3.1MB/s eta 0:00:01\r\u001b[K     |█████████▎                      | 61kB 3.6MB/s eta 0:00:01\r\u001b[K     |██████████▊                     | 71kB 4.0MB/s eta 0:00:01\r\u001b[K     |████████████▎                   | 81kB 4.4MB/s eta 0:00:01\r\u001b[K     |█████████████▉                  | 92kB 4.6MB/s eta 0:00:01\r\u001b[K     |███████████████▍                | 102kB 4.5MB/s eta 0:00:01\r\u001b[K     |█████████████████               | 112kB 4.5MB/s eta 0:00:01\r\u001b[K     |██████████████████▌             | 122kB 4.5MB/s eta 0:00:01\r\u001b[K     |████████████████████            | 133kB 4.5MB/s eta 0:00:01\r\u001b[K     |█████████████████████▌          | 143kB 4.5MB/s eta 0:00:01\r\u001b[K     |███████████████████████         | 153kB 4.5MB/s eta 0:00:01\r\u001b[K     |████████████████████████▋       | 163kB 4.5MB/s eta 0:00:01\r\u001b[K     |██████████████████████████▏     | 174kB 4.5MB/s eta 0:00:01\r\u001b[K     |███████████████████████████▊    | 184kB 4.5MB/s eta 0:00:01\r\u001b[K     |█████████████████████████████▎  | 194kB 4.5MB/s eta 0:00:01\r\u001b[K     |██████████████████████████████▊ | 204kB 4.5MB/s eta 0:00:01\r\u001b[K     |████████████████████████████████| 215kB 4.5MB/s \n",
            "\u001b[?25hCollecting netifaces>=0.10.7\n",
            "  Downloading https://files.pythonhosted.org/packages/0c/9b/c4c7eb09189548d45939a3d3a6b3d53979c67d124459b27a094c365c347f/netifaces-0.10.9-cp36-cp36m-manylinux1_x86_64.whl\n",
            "Collecting wurlitzer>=1.0.2\n",
            "  Downloading https://files.pythonhosted.org/packages/24/5e/f3bd8443bfdf96d2f5d10097d301076a9eb55637b7864e52d2d1a4d8c72a/wurlitzer-2.0.0-py2.py3-none-any.whl\n",
            "Requirement already satisfied: requests>=2.18.4 in /usr/local/lib/python3.6/dist-packages (from comet_ml) (2.23.0)\n",
            "Requirement already satisfied: nvidia-ml-py3>=7.352.0 in /usr/local/lib/python3.6/dist-packages (from comet_ml) (7.352.0)\n",
            "Collecting comet-git-pure>=0.19.11\n",
            "\u001b[?25l  Downloading https://files.pythonhosted.org/packages/72/7a/483413046e48908986a0f9a1d8a917e1da46ae58e6ba16b2ac71b3adf8d7/comet_git_pure-0.19.16-py3-none-any.whl (409kB)\n",
            "\u001b[K     |████████████████████████████████| 419kB 14.3MB/s \n",
            "\u001b[?25hRequirement already satisfied: jsonschema!=3.1.0,>=2.6.0 in /usr/local/lib/python3.6/dist-packages (from comet_ml) (2.6.0)\n",
            "Collecting websocket-client>=0.55.0\n",
            "\u001b[?25l  Downloading https://files.pythonhosted.org/packages/4c/5f/f61b420143ed1c8dc69f9eaec5ff1ac36109d52c80de49d66e0c36c3dfdf/websocket_client-0.57.0-py2.py3-none-any.whl (200kB)\n",
            "\u001b[K     |████████████████████████████████| 204kB 21.6MB/s \n",
            "\u001b[?25hCollecting everett[ini]>=1.0.1; python_version >= \"3.0\"\n",
            "  Downloading https://files.pythonhosted.org/packages/12/34/de70a3d913411e40ce84966f085b5da0c6df741e28c86721114dd290aaa0/everett-1.0.2-py2.py3-none-any.whl\n",
            "Requirement already satisfied: six in /usr/local/lib/python3.6/dist-packages (from comet_ml) (1.12.0)\n",
            "Requirement already satisfied: chardet<4,>=3.0.2 in /usr/local/lib/python3.6/dist-packages (from requests>=2.18.4->comet_ml) (3.0.4)\n",
            "Requirement already satisfied: idna<3,>=2.5 in /usr/local/lib/python3.6/dist-packages (from requests>=2.18.4->comet_ml) (2.9)\n",
            "Requirement already satisfied: urllib3!=1.25.0,!=1.25.1,<1.26,>=1.21.1 in /usr/local/lib/python3.6/dist-packages (from requests>=2.18.4->comet_ml) (1.24.3)\n",
            "Requirement already satisfied: certifi>=2017.4.17 in /usr/local/lib/python3.6/dist-packages (from requests>=2.18.4->comet_ml) (2020.4.5.2)\n",
            "Collecting configobj; extra == \"ini\"\n",
            "  Downloading https://files.pythonhosted.org/packages/64/61/079eb60459c44929e684fa7d9e2fdca403f67d64dd9dbac27296be2e0fab/configobj-5.0.6.tar.gz\n",
            "Building wheels for collected packages: configobj\n",
            "  Building wheel for configobj (setup.py) ... \u001b[?25l\u001b[?25hdone\n",
            "  Created wheel for configobj: filename=configobj-5.0.6-cp36-none-any.whl size=34546 sha256=2e17f73ff7c544898ed44a450aecffefa906c5437a223ce39536d561809e072d\n",
            "  Stored in directory: /root/.cache/pip/wheels/f1/e4/16/4981ca97c2d65106b49861e0b35e2660695be7219a2d351ee0\n",
            "Successfully built configobj\n",
            "Installing collected packages: netifaces, wurlitzer, comet-git-pure, websocket-client, configobj, everett, comet-ml\n",
            "Successfully installed comet-git-pure-0.19.16 comet-ml-3.1.11 configobj-5.0.6 everett-1.0.2 netifaces-0.10.9 websocket-client-0.57.0 wurlitzer-2.0.0\n"
          ],
          "name": "stdout"
        }
      ]
    },
    {
      "cell_type": "code",
      "metadata": {
        "id": "vnY4ID2OKK0a",
        "colab_type": "code",
        "colab": {
          "base_uri": "https://localhost:8080/",
          "height": 50
        },
        "outputId": "f02555e3-59b6-4c7e-dc29-1c90e8f76cf4"
      },
      "source": [
        "from comet_ml import Experiment\n",
        "# creating an experiment\n",
        "experiment = Experiment(api_key=\"rBqQ3hDuEa6xVpT9ns5Tz1dVt\",project_name=\"nlp-climate-change\", workspace=\"monicafar147\")"
      ],
      "execution_count": 2,
      "outputs": [
        {
          "output_type": "stream",
          "text": [
            "COMET INFO: Experiment is live on comet.ml https://www.comet.ml/monicafar147/nlp-climate-change/c2d144d705e2467b81a937633a06f63d\n",
            "\n"
          ],
          "name": "stderr"
        }
      ]
    },
    {
      "cell_type": "code",
      "metadata": {
        "colab_type": "code",
        "id": "ypQ__uPtm3i_",
        "colab": {}
      },
      "source": [
        "# import libraries\n",
        "import numpy as np \n",
        "import pandas as pd\n",
        "import string\n",
        "from matplotlib import pyplot as plt"
      ],
      "execution_count": 3,
      "outputs": []
    },
    {
      "cell_type": "code",
      "metadata": {
        "colab_type": "code",
        "id": "SeSYbuaYnT6v",
        "colab": {}
      },
      "source": [
        "#Import data\n",
        "df = pd.read_csv(\"https://raw.githubusercontent.com/monicafar147/classification-predict-streamlit-template/master/climate-change-belief-analysis/train.csv\")\n",
        "df1 = pd.read_csv(\"https://raw.githubusercontent.com/monicafar147/classification-predict-streamlit-template/master/climate-change-belief-analysis/test.csv\")"
      ],
      "execution_count": 4,
      "outputs": []
    },
    {
      "cell_type": "code",
      "metadata": {
        "colab_type": "code",
        "id": "RGBOd60LnvNm",
        "colab": {}
      },
      "source": [
        "# set tweetid as index\n",
        "df_new = df1.set_index('tweetid')"
      ],
      "execution_count": 5,
      "outputs": []
    },
    {
      "cell_type": "code",
      "metadata": {
        "colab_type": "code",
        "id": "l9sHCX8Sn4_e",
        "colab": {}
      },
      "source": [
        "# clean the train csv\n",
        "df_url = r'http[s]?://(?:[A-Za-z]|[0-9]|[$-_@.&+]|[!*\\(\\),]|(?:%[0-9A-Fa-f][0-9A-Fa-f]))+'\n",
        "subs_url = r'url-web'\n",
        "df['message'] = df['message'].replace(to_replace = df_url, value = subs_url, regex = True)\n",
        "df['message'] = df['message'].str.lower()"
      ],
      "execution_count": 6,
      "outputs": []
    },
    {
      "cell_type": "code",
      "metadata": {
        "colab_type": "code",
        "id": "Xo35KXp0oa_I",
        "colab": {}
      },
      "source": [
        "# function to remove punctuations\n",
        "def remove_punctuation(post):\n",
        "    return ''.join([l for l in post if l not in string.punctuation])"
      ],
      "execution_count": 7,
      "outputs": []
    },
    {
      "cell_type": "code",
      "metadata": {
        "colab_type": "code",
        "id": "eCw2V_SXX110",
        "colab": {}
      },
      "source": [
        "df['message'] = df['message'].apply(remove_punctuation)"
      ],
      "execution_count": 8,
      "outputs": []
    },
    {
      "cell_type": "code",
      "metadata": {
        "colab_type": "code",
        "id": "eSQsBV_wXtcG",
        "colab": {}
      },
      "source": [
        "# clean the test csv\n",
        "df_test = r'http[s]?://(?:[A-Za-z]|[0-9]|[$-_@.&+]|[!*\\(\\),]|(?:%[0-9A-Fa-f][0-9A-Fa-f]))+'\n",
        "subs_urltest = r'url-web'\n",
        "df_new['message'] = df_new['message'].replace(to_replace = df_test, value = subs_urltest, regex = True)\n",
        "df_new['message'] = df_new['message'].str.lower()"
      ],
      "execution_count": 9,
      "outputs": []
    },
    {
      "cell_type": "code",
      "metadata": {
        "colab_type": "code",
        "id": "gqwlBPbvXumy",
        "colab": {}
      },
      "source": [
        "# function to remove punctuations\n",
        "def remove_punctuation(post):\n",
        "    return ''.join([l for l in post if l not in string.punctuation])"
      ],
      "execution_count": 10,
      "outputs": []
    },
    {
      "cell_type": "code",
      "metadata": {
        "colab_type": "code",
        "id": "dcbcDW8OX96R",
        "colab": {}
      },
      "source": [
        "df_new['message'] = df_new['message'].apply(remove_punctuation)"
      ],
      "execution_count": 11,
      "outputs": []
    },
    {
      "cell_type": "code",
      "metadata": {
        "colab_type": "code",
        "id": "JtIWRNoC4IC_",
        "colab": {
          "base_uri": "https://localhost:8080/",
          "height": 402
        },
        "outputId": "228422bc-da63-4d4f-c87a-3f56af4fe270"
      },
      "source": [
        "df"
      ],
      "execution_count": 12,
      "outputs": [
        {
          "output_type": "execute_result",
          "data": {
            "text/html": [
              "<div>\n",
              "<style scoped>\n",
              "    .dataframe tbody tr th:only-of-type {\n",
              "        vertical-align: middle;\n",
              "    }\n",
              "\n",
              "    .dataframe tbody tr th {\n",
              "        vertical-align: top;\n",
              "    }\n",
              "\n",
              "    .dataframe thead th {\n",
              "        text-align: right;\n",
              "    }\n",
              "</style>\n",
              "<table border=\"1\" class=\"dataframe\">\n",
              "  <thead>\n",
              "    <tr style=\"text-align: right;\">\n",
              "      <th></th>\n",
              "      <th>sentiment</th>\n",
              "      <th>message</th>\n",
              "      <th>tweetid</th>\n",
              "    </tr>\n",
              "  </thead>\n",
              "  <tbody>\n",
              "    <tr>\n",
              "      <th>0</th>\n",
              "      <td>1</td>\n",
              "      <td>polyscimajor epa chief doesnt think carbon dio...</td>\n",
              "      <td>625221</td>\n",
              "    </tr>\n",
              "    <tr>\n",
              "      <th>1</th>\n",
              "      <td>1</td>\n",
              "      <td>its not like we lack evidence of anthropogenic...</td>\n",
              "      <td>126103</td>\n",
              "    </tr>\n",
              "    <tr>\n",
              "      <th>2</th>\n",
              "      <td>2</td>\n",
              "      <td>rt rawstory researchers say we have three year...</td>\n",
              "      <td>698562</td>\n",
              "    </tr>\n",
              "    <tr>\n",
              "      <th>3</th>\n",
              "      <td>1</td>\n",
              "      <td>todayinmaker wired  2016 was a pivotal year in...</td>\n",
              "      <td>573736</td>\n",
              "    </tr>\n",
              "    <tr>\n",
              "      <th>4</th>\n",
              "      <td>1</td>\n",
              "      <td>rt soynoviodetodas its 2016 and a racist sexis...</td>\n",
              "      <td>466954</td>\n",
              "    </tr>\n",
              "    <tr>\n",
              "      <th>...</th>\n",
              "      <td>...</td>\n",
              "      <td>...</td>\n",
              "      <td>...</td>\n",
              "    </tr>\n",
              "    <tr>\n",
              "      <th>15814</th>\n",
              "      <td>1</td>\n",
              "      <td>rt ezlusztig they took down the material on gl...</td>\n",
              "      <td>22001</td>\n",
              "    </tr>\n",
              "    <tr>\n",
              "      <th>15815</th>\n",
              "      <td>2</td>\n",
              "      <td>rt washingtonpost how climate change could be ...</td>\n",
              "      <td>17856</td>\n",
              "    </tr>\n",
              "    <tr>\n",
              "      <th>15816</th>\n",
              "      <td>0</td>\n",
              "      <td>notiven rt nytimesworld what does trump actual...</td>\n",
              "      <td>384248</td>\n",
              "    </tr>\n",
              "    <tr>\n",
              "      <th>15817</th>\n",
              "      <td>-1</td>\n",
              "      <td>rt sara8smiles hey liberals the climate change...</td>\n",
              "      <td>819732</td>\n",
              "    </tr>\n",
              "    <tr>\n",
              "      <th>15818</th>\n",
              "      <td>0</td>\n",
              "      <td>rt chetcannon kurteichenwalds climate change e...</td>\n",
              "      <td>806319</td>\n",
              "    </tr>\n",
              "  </tbody>\n",
              "</table>\n",
              "<p>15819 rows × 3 columns</p>\n",
              "</div>"
            ],
            "text/plain": [
              "       sentiment                                            message  tweetid\n",
              "0              1  polyscimajor epa chief doesnt think carbon dio...   625221\n",
              "1              1  its not like we lack evidence of anthropogenic...   126103\n",
              "2              2  rt rawstory researchers say we have three year...   698562\n",
              "3              1  todayinmaker wired  2016 was a pivotal year in...   573736\n",
              "4              1  rt soynoviodetodas its 2016 and a racist sexis...   466954\n",
              "...          ...                                                ...      ...\n",
              "15814          1  rt ezlusztig they took down the material on gl...    22001\n",
              "15815          2  rt washingtonpost how climate change could be ...    17856\n",
              "15816          0  notiven rt nytimesworld what does trump actual...   384248\n",
              "15817         -1  rt sara8smiles hey liberals the climate change...   819732\n",
              "15818          0  rt chetcannon kurteichenwalds climate change e...   806319\n",
              "\n",
              "[15819 rows x 3 columns]"
            ]
          },
          "metadata": {
            "tags": []
          },
          "execution_count": 12
        }
      ]
    },
    {
      "cell_type": "code",
      "metadata": {
        "colab_type": "code",
        "id": "Tl5qQHbRqs2M",
        "colab": {}
      },
      "source": [
        "# split into train and test\n",
        "from sklearn.model_selection import train_test_split\n",
        "\n",
        "X = df['message']  \n",
        "y = df['sentiment']\n",
        "X_unseen = df_new['message'] \n",
        "\n",
        "X_train, X_test, y_train, y_test = train_test_split(X, y, test_size=0.1, random_state=42)"
      ],
      "execution_count": 13,
      "outputs": []
    },
    {
      "cell_type": "code",
      "metadata": {
        "colab_type": "code",
        "id": "5pSTlma_rH8a",
        "colab": {
          "base_uri": "https://localhost:8080/",
          "height": 402
        },
        "outputId": "85eec5e6-f97b-4c95-9dc7-24cfd7a36f4b"
      },
      "source": [
        " con = pd.concat([X_train, y_train], axis=1)\n",
        " con"
      ],
      "execution_count": 14,
      "outputs": [
        {
          "output_type": "execute_result",
          "data": {
            "text/html": [
              "<div>\n",
              "<style scoped>\n",
              "    .dataframe tbody tr th:only-of-type {\n",
              "        vertical-align: middle;\n",
              "    }\n",
              "\n",
              "    .dataframe tbody tr th {\n",
              "        vertical-align: top;\n",
              "    }\n",
              "\n",
              "    .dataframe thead th {\n",
              "        text-align: right;\n",
              "    }\n",
              "</style>\n",
              "<table border=\"1\" class=\"dataframe\">\n",
              "  <thead>\n",
              "    <tr style=\"text-align: right;\">\n",
              "      <th></th>\n",
              "      <th>message</th>\n",
              "      <th>sentiment</th>\n",
              "    </tr>\n",
              "  </thead>\n",
              "  <tbody>\n",
              "    <tr>\n",
              "      <th>14201</th>\n",
              "      <td>why do some people still doubt global warming ...</td>\n",
              "      <td>1</td>\n",
              "    </tr>\n",
              "    <tr>\n",
              "      <th>14693</th>\n",
              "      <td>rt trialwatcher1 drmartyfox sheriffclarke loud...</td>\n",
              "      <td>-1</td>\n",
              "    </tr>\n",
              "    <tr>\n",
              "      <th>3745</th>\n",
              "      <td>rt natgeochannel watch beforetheflood right he...</td>\n",
              "      <td>1</td>\n",
              "    </tr>\n",
              "    <tr>\n",
              "      <th>15273</th>\n",
              "      <td>rt greenpeace what if climate change is just a...</td>\n",
              "      <td>1</td>\n",
              "    </tr>\n",
              "    <tr>\n",
              "      <th>10324</th>\n",
              "      <td>rt emorwee in which i casually speculate that ...</td>\n",
              "      <td>1</td>\n",
              "    </tr>\n",
              "    <tr>\n",
              "      <th>...</th>\n",
              "      <td>...</td>\n",
              "      <td>...</td>\n",
              "    </tr>\n",
              "    <tr>\n",
              "      <th>13418</th>\n",
              "      <td>rt safeagain1 russias oil and gas industry wil...</td>\n",
              "      <td>1</td>\n",
              "    </tr>\n",
              "    <tr>\n",
              "      <th>5390</th>\n",
              "      <td>rt businessinsider a climate change skeptic is...</td>\n",
              "      <td>1</td>\n",
              "    </tr>\n",
              "    <tr>\n",
              "      <th>860</th>\n",
              "      <td>rt bramnessellen we need to tap into the scien...</td>\n",
              "      <td>1</td>\n",
              "    </tr>\n",
              "    <tr>\n",
              "      <th>15795</th>\n",
              "      <td>china’s coal use drops showing commitment to c...</td>\n",
              "      <td>2</td>\n",
              "    </tr>\n",
              "    <tr>\n",
              "      <th>7270</th>\n",
              "      <td>rt climatecentral 35 seconds more than 100 cou...</td>\n",
              "      <td>1</td>\n",
              "    </tr>\n",
              "  </tbody>\n",
              "</table>\n",
              "<p>14237 rows × 2 columns</p>\n",
              "</div>"
            ],
            "text/plain": [
              "                                                 message  sentiment\n",
              "14201  why do some people still doubt global warming ...          1\n",
              "14693  rt trialwatcher1 drmartyfox sheriffclarke loud...         -1\n",
              "3745   rt natgeochannel watch beforetheflood right he...          1\n",
              "15273  rt greenpeace what if climate change is just a...          1\n",
              "10324  rt emorwee in which i casually speculate that ...          1\n",
              "...                                                  ...        ...\n",
              "13418  rt safeagain1 russias oil and gas industry wil...          1\n",
              "5390   rt businessinsider a climate change skeptic is...          1\n",
              "860    rt bramnessellen we need to tap into the scien...          1\n",
              "15795  china’s coal use drops showing commitment to c...          2\n",
              "7270   rt climatecentral 35 seconds more than 100 cou...          1\n",
              "\n",
              "[14237 rows x 2 columns]"
            ]
          },
          "metadata": {
            "tags": []
          },
          "execution_count": 14
        }
      ]
    },
    {
      "cell_type": "code",
      "metadata": {
        "colab_type": "code",
        "id": "k251I3DbrUhN",
        "colab": {}
      },
      "source": [
        "pro = con[con['sentiment']==1]\n",
        "news = con[con['sentiment']==2]\n",
        "neutral = con[con['sentiment']==0]\n",
        "anti = con[con['sentiment']==-1]"
      ],
      "execution_count": 15,
      "outputs": []
    },
    {
      "cell_type": "code",
      "metadata": {
        "colab_type": "code",
        "id": "amoCuHYlrUno",
        "colab": {
          "base_uri": "https://localhost:8080/",
          "height": 67
        },
        "outputId": "34d6bbc6-d380-4ff0-e9af-dc36f07f446a"
      },
      "source": [
        "# As usual, we start by importing our modules\n",
        "from sklearn.utils import resample\n",
        "# Upsample minority\n",
        "spam_upsampled1 = resample(anti,\n",
        "                          replace=True, # sample with replacement (we need to duplicate observations)\n",
        "                          n_samples=len(pro), # match number in minority class\n",
        "                          random_state=42) # reproducible results\n",
        "\n",
        "# Combine upsampled minority class with majority class\n",
        "upsampled = pd.concat([spam_upsampled1, pro])\n",
        "\n",
        "# Check new class counts\n",
        "upsampled['sentiment'].value_counts()"
      ],
      "execution_count": 16,
      "outputs": [
        {
          "output_type": "execute_result",
          "data": {
            "text/plain": [
              "-1    7635\n",
              " 1    7635\n",
              "Name: sentiment, dtype: int64"
            ]
          },
          "metadata": {
            "tags": []
          },
          "execution_count": 16
        }
      ]
    },
    {
      "cell_type": "code",
      "metadata": {
        "colab_type": "code",
        "id": "qHpmgqQorU1A",
        "colab": {
          "base_uri": "https://localhost:8080/",
          "height": 84
        },
        "outputId": "9a2c7451-61b3-42c9-c6d1-bba48a17888b"
      },
      "source": [
        "# As usual, we start by importing our modules\n",
        "from sklearn.utils import resample\n",
        "# Upsample minority\n",
        "spam_upsampled2 = resample(news,\n",
        "                          replace=True, # sample with replacement (we need to duplicate observations)\n",
        "                          n_samples=len(pro), # match number in minority class\n",
        "                          random_state=27) # reproducible results\n",
        "\n",
        "# Combine upsampled minority class with majority class\n",
        "upsampled = pd.concat([spam_upsampled1, spam_upsampled2, pro])\n",
        "\n",
        "# Check new class counts\n",
        "upsampled['sentiment'].value_counts()"
      ],
      "execution_count": 17,
      "outputs": [
        {
          "output_type": "execute_result",
          "data": {
            "text/plain": [
              "-1    7635\n",
              " 2    7635\n",
              " 1    7635\n",
              "Name: sentiment, dtype: int64"
            ]
          },
          "metadata": {
            "tags": []
          },
          "execution_count": 17
        }
      ]
    },
    {
      "cell_type": "code",
      "metadata": {
        "colab_type": "code",
        "id": "rlLufMHxrUzI",
        "colab": {
          "base_uri": "https://localhost:8080/",
          "height": 101
        },
        "outputId": "4a87bb37-a752-4514-a7f8-c3fe8e4ae979"
      },
      "source": [
        "# As usual, we start by importing our modules\n",
        "from sklearn.utils import resample\n",
        "# Upsample minority\n",
        "spam_upsampled3 = resample(neutral,\n",
        "                          replace=True, # sample with replacement (we need to duplicate observations)\n",
        "                          n_samples=len(pro), # match number in minority class\n",
        "                          random_state=42) # reproducible results\n",
        "\n",
        "# Combine upsampled minority class with majority class\n",
        "upsampled = pd.concat([spam_upsampled1, spam_upsampled2, spam_upsampled3, pro])\n",
        "\n",
        "# Check new class counts\n",
        "upsampled['sentiment'].value_counts()"
      ],
      "execution_count": 18,
      "outputs": [
        {
          "output_type": "execute_result",
          "data": {
            "text/plain": [
              "-1    7635\n",
              " 2    7635\n",
              " 1    7635\n",
              " 0    7635\n",
              "Name: sentiment, dtype: int64"
            ]
          },
          "metadata": {
            "tags": []
          },
          "execution_count": 18
        }
      ]
    },
    {
      "cell_type": "code",
      "metadata": {
        "colab_type": "code",
        "id": "FjJw0Ak130xa",
        "colab": {
          "base_uri": "https://localhost:8080/",
          "height": 402
        },
        "outputId": "4991cb4c-ad52-46cc-f39d-0a9d3f6e764a"
      },
      "source": [
        "upsampled"
      ],
      "execution_count": 19,
      "outputs": [
        {
          "output_type": "execute_result",
          "data": {
            "text/html": [
              "<div>\n",
              "<style scoped>\n",
              "    .dataframe tbody tr th:only-of-type {\n",
              "        vertical-align: middle;\n",
              "    }\n",
              "\n",
              "    .dataframe tbody tr th {\n",
              "        vertical-align: top;\n",
              "    }\n",
              "\n",
              "    .dataframe thead th {\n",
              "        text-align: right;\n",
              "    }\n",
              "</style>\n",
              "<table border=\"1\" class=\"dataframe\">\n",
              "  <thead>\n",
              "    <tr style=\"text-align: right;\">\n",
              "      <th></th>\n",
              "      <th>message</th>\n",
              "      <th>sentiment</th>\n",
              "    </tr>\n",
              "  </thead>\n",
              "  <tbody>\n",
              "    <tr>\n",
              "      <th>15202</th>\n",
              "      <td>dino survey by 101 margin americans think al g...</td>\n",
              "      <td>-1</td>\n",
              "    </tr>\n",
              "    <tr>\n",
              "      <th>14838</th>\n",
              "      <td>rt pmgeezer how the global warming fraud will ...</td>\n",
              "      <td>-1</td>\n",
              "    </tr>\n",
              "    <tr>\n",
              "      <th>4780</th>\n",
              "      <td>rt bittrscrptreadr on a day of total humanitar...</td>\n",
              "      <td>-1</td>\n",
              "    </tr>\n",
              "    <tr>\n",
              "      <th>13319</th>\n",
              "      <td>rt realdonaldtrump its freezing outside where ...</td>\n",
              "      <td>-1</td>\n",
              "    </tr>\n",
              "    <tr>\n",
              "      <th>4841</th>\n",
              "      <td>the thing is that im not going to deny climate...</td>\n",
              "      <td>-1</td>\n",
              "    </tr>\n",
              "    <tr>\n",
              "      <th>...</th>\n",
              "      <td>...</td>\n",
              "      <td>...</td>\n",
              "    </tr>\n",
              "    <tr>\n",
              "      <th>5191</th>\n",
              "      <td>rt nytnational trump has called climate change...</td>\n",
              "      <td>1</td>\n",
              "    </tr>\n",
              "    <tr>\n",
              "      <th>13418</th>\n",
              "      <td>rt safeagain1 russias oil and gas industry wil...</td>\n",
              "      <td>1</td>\n",
              "    </tr>\n",
              "    <tr>\n",
              "      <th>5390</th>\n",
              "      <td>rt businessinsider a climate change skeptic is...</td>\n",
              "      <td>1</td>\n",
              "    </tr>\n",
              "    <tr>\n",
              "      <th>860</th>\n",
              "      <td>rt bramnessellen we need to tap into the scien...</td>\n",
              "      <td>1</td>\n",
              "    </tr>\n",
              "    <tr>\n",
              "      <th>7270</th>\n",
              "      <td>rt climatecentral 35 seconds more than 100 cou...</td>\n",
              "      <td>1</td>\n",
              "    </tr>\n",
              "  </tbody>\n",
              "</table>\n",
              "<p>30540 rows × 2 columns</p>\n",
              "</div>"
            ],
            "text/plain": [
              "                                                 message  sentiment\n",
              "15202  dino survey by 101 margin americans think al g...         -1\n",
              "14838  rt pmgeezer how the global warming fraud will ...         -1\n",
              "4780   rt bittrscrptreadr on a day of total humanitar...         -1\n",
              "13319  rt realdonaldtrump its freezing outside where ...         -1\n",
              "4841   the thing is that im not going to deny climate...         -1\n",
              "...                                                  ...        ...\n",
              "5191   rt nytnational trump has called climate change...          1\n",
              "13418  rt safeagain1 russias oil and gas industry wil...          1\n",
              "5390   rt businessinsider a climate change skeptic is...          1\n",
              "860    rt bramnessellen we need to tap into the scien...          1\n",
              "7270   rt climatecentral 35 seconds more than 100 cou...          1\n",
              "\n",
              "[30540 rows x 2 columns]"
            ]
          },
          "metadata": {
            "tags": []
          },
          "execution_count": 19
        }
      ]
    },
    {
      "cell_type": "code",
      "metadata": {
        "colab_type": "code",
        "id": "1BKubmFnrUvO",
        "colab": {}
      },
      "source": [
        "# model\n",
        "from sklearn.model_selection import train_test_split\n",
        "\n",
        "X_train1 = upsampled['message']  \n",
        "y_train1 = upsampled['sentiment']\n",
        "X_unseen = df_new['message'] "
      ],
      "execution_count": 20,
      "outputs": []
    },
    {
      "cell_type": "code",
      "metadata": {
        "colab_type": "code",
        "id": "daZoaWtfouIh",
        "colab": {
          "base_uri": "https://localhost:8080/",
          "height": 521
        },
        "outputId": "62706fde-b144-45b0-d432-727d20f97bb8"
      },
      "source": [
        "from sklearn.pipeline import Pipeline\n",
        "from sklearn.feature_extraction.text import TfidfVectorizer\n",
        "from sklearn.linear_model import LogisticRegression\n",
        "\n",
        "\n",
        "text_clf = Pipeline([('tfidf', TfidfVectorizer()),\n",
        "                     ('lr', LogisticRegression())\n",
        "                      ])\n",
        "\n",
        "# Feed the training data through the pipeline\n",
        "text_clf.fit(X_train1, y_train1) "
      ],
      "execution_count": 21,
      "outputs": [
        {
          "output_type": "stream",
          "text": [
            "sklearn.linear_model._logistic:940: ConvergenceWarning: lbfgs failed to converge (status=1):\n",
            "STOP: TOTAL NO. of ITERATIONS REACHED LIMIT.\n",
            "\n",
            "Increase the number of iterations (max_iter) or scale the data as shown in:\n",
            "    https://scikit-learn.org/stable/modules/preprocessing.html\n",
            "Please also refer to the documentation for alternative solver options:\n",
            "    https://scikit-learn.org/stable/modules/linear_model.html#logistic-regression\n"
          ],
          "name": "stderr"
        },
        {
          "output_type": "execute_result",
          "data": {
            "text/plain": [
              "Pipeline(memory=None,\n",
              "         steps=[('tfidf',\n",
              "                 TfidfVectorizer(analyzer='word', binary=False,\n",
              "                                 decode_error='strict',\n",
              "                                 dtype=<class 'numpy.float64'>,\n",
              "                                 encoding='utf-8', input='content',\n",
              "                                 lowercase=True, max_df=1.0, max_features=None,\n",
              "                                 min_df=1, ngram_range=(1, 1), norm='l2',\n",
              "                                 preprocessor=None, smooth_idf=True,\n",
              "                                 stop_words=None, strip_accents=None,\n",
              "                                 sublinear_tf=False,\n",
              "                                 token_pattern='(?u)\\\\b\\\\w\\\\w+\\\\b',\n",
              "                                 tokenizer=None, use_idf=True,\n",
              "                                 vocabulary=None)),\n",
              "                ('lr',\n",
              "                 LogisticRegression(C=1.0, class_weight=None, dual=False,\n",
              "                                    fit_intercept=True, intercept_scaling=1,\n",
              "                                    l1_ratio=None, max_iter=100,\n",
              "                                    multi_class='auto', n_jobs=None,\n",
              "                                    penalty='l2', random_state=None,\n",
              "                                    solver='lbfgs', tol=0.0001, verbose=0,\n",
              "                                    warm_start=False))],\n",
              "         verbose=False)"
            ]
          },
          "metadata": {
            "tags": []
          },
          "execution_count": 21
        }
      ]
    },
    {
      "cell_type": "code",
      "metadata": {
        "colab_type": "code",
        "id": "M9t7_4ELo1v9",
        "colab": {}
      },
      "source": [
        "from sklearn.feature_extraction.text import CountVectorizer\n",
        "count_vect = CountVectorizer()\n",
        "\n",
        "X_train_counts = count_vect.fit_transform(X_train1)"
      ],
      "execution_count": 22,
      "outputs": []
    },
    {
      "cell_type": "code",
      "metadata": {
        "colab_type": "code",
        "id": "jUajL3vJo6ja",
        "colab": {}
      },
      "source": [
        "predictions = text_clf.predict(X_test)"
      ],
      "execution_count": 23,
      "outputs": []
    },
    {
      "cell_type": "code",
      "metadata": {
        "colab_type": "code",
        "id": "vHJioxqzqwcy",
        "colab": {}
      },
      "source": [
        "y_pred = text_clf.predict(X_unseen)"
      ],
      "execution_count": 24,
      "outputs": []
    },
    {
      "cell_type": "code",
      "metadata": {
        "colab_type": "code",
        "id": "kxDNPlnGo-It",
        "colab": {
          "base_uri": "https://localhost:8080/",
          "height": 84
        },
        "outputId": "13d48202-1861-4486-ddfd-b365e8311b5b"
      },
      "source": [
        "# Report the confusion matrix\n",
        "from sklearn import metrics\n",
        "print(metrics.confusion_matrix(y_test,predictions))"
      ],
      "execution_count": 25,
      "outputs": [
        {
          "output_type": "stream",
          "text": [
            "[[ 82  18  23   3]\n",
            " [ 29 112  65  18]\n",
            " [ 44  83 664 104]\n",
            " [  5   8  29 295]]\n"
          ],
          "name": "stdout"
        }
      ]
    },
    {
      "cell_type": "code",
      "metadata": {
        "colab_type": "code",
        "id": "J_3PAO2ao_JQ",
        "colab": {
          "base_uri": "https://localhost:8080/",
          "height": 202
        },
        "outputId": "bbb4c129-10a9-47f1-b6d6-12604da8c4f4"
      },
      "source": [
        "# classification report\n",
        "report_upsample = metrics.classification_report(y_test,predictions)\n",
        "print(report_upsample)"
      ],
      "execution_count": 29,
      "outputs": [
        {
          "output_type": "stream",
          "text": [
            "              precision    recall  f1-score   support\n",
            "\n",
            "          -1       0.51      0.65      0.57       126\n",
            "           0       0.51      0.50      0.50       224\n",
            "           1       0.85      0.74      0.79       895\n",
            "           2       0.70      0.88      0.78       337\n",
            "\n",
            "    accuracy                           0.73      1582\n",
            "   macro avg       0.64      0.69      0.66      1582\n",
            "weighted avg       0.74      0.73      0.73      1582\n",
            "\n"
          ],
          "name": "stdout"
        }
      ]
    },
    {
      "cell_type": "code",
      "metadata": {
        "colab_type": "code",
        "id": "-ogBCOpprLsj",
        "colab": {
          "base_uri": "https://localhost:8080/",
          "height": 34
        },
        "outputId": "a4121d57-4d3e-49ca-f0bb-07a059bec8c2"
      },
      "source": [
        "# print accuracy\n",
        "print(metrics.accuracy_score(y_test,predictions))"
      ],
      "execution_count": 27,
      "outputs": [
        {
          "output_type": "stream",
          "text": [
            "0.7288242730720607\n"
          ],
          "name": "stdout"
        }
      ]
    },
    {
      "cell_type": "markdown",
      "metadata": {
        "id": "jI3HsxonMRzI",
        "colab_type": "text"
      },
      "source": [
        "#Comet version control"
      ]
    },
    {
      "cell_type": "code",
      "metadata": {
        "id": "tU9V0ZLGLR6_",
        "colab_type": "code",
        "colab": {}
      },
      "source": [
        "\n",
        "# Create dictionaries for the data we want to log\n",
        "\n",
        "params = {\"preprocessing\":  \"Upsampling\",\n",
        "          \"keeps username\":\"True\",\n",
        "          \"keeps hashtags\":\"True\",\n",
        "          \"keeps URL\":\"urlweb\",\n",
        "          \"removes puncutation\":\"True\",\n",
        "          \"use stopwords\":\"True\",\n",
        "          \"model_type\": \"LinearSVC\",\n",
        "          }\n",
        "\n",
        "metrics = {\"report\" : report_upsample,\n",
        "           }"
      ],
      "execution_count": 30,
      "outputs": []
    },
    {
      "cell_type": "code",
      "metadata": {
        "id": "NmbaEyKfN-K7",
        "colab_type": "code",
        "colab": {}
      },
      "source": [
        "# Log our parameters and results\n",
        "experiment.log_parameters(params)\n",
        "experiment.log_metric(\"report\",report_upsample)"
      ],
      "execution_count": 32,
      "outputs": []
    },
    {
      "cell_type": "code",
      "metadata": {
        "id": "RZ4z0_2kN-Id",
        "colab_type": "code",
        "colab": {
          "base_uri": "https://localhost:8080/",
          "height": 1000
        },
        "outputId": "c97380a6-040e-40b0-d6cf-bfd1c23057e7"
      },
      "source": [
        "experiment.end()"
      ],
      "execution_count": 33,
      "outputs": [
        {
          "output_type": "stream",
          "text": [
            "COMET INFO: ---------------------------\n",
            "COMET INFO: Comet.ml Experiment Summary\n",
            "COMET INFO: ---------------------------\n",
            "COMET INFO:   Data:\n",
            "COMET INFO:     display_summary_level : 1\n",
            "COMET INFO:     url                   : https://www.comet.ml/monicafar147/nlp-climate-change/c2d144d705e2467b81a937633a06f63d\n",
            "COMET INFO:   Metrics:\n",
            "COMET INFO:     report :               precision    recall  f1-score   support\n",
            "\n",
            "          -1       0.51      0.65      0.57       126\n",
            "           0       0.51      0.50      0.50       224\n",
            "           1       0.85      0.74      0.79       895\n",
            "           2       0.70      0.88      0.78       337\n",
            "\n",
            "    accuracy                           0.73      1582\n",
            "   macro avg       0.64      0.69      0.66      1582\n",
            "weighted avg       0.74      0.73      0.73      1582\n",
            "\n",
            "COMET INFO:   Parameters:\n",
            "COMET INFO:     C                    : 1.0\n",
            "COMET INFO:     class_weight         : 1\n",
            "COMET INFO:     dual                 : 1\n",
            "COMET INFO:     fit_intercept        : True\n",
            "COMET INFO:     intercept_scaling    : 1\n",
            "COMET INFO:     keeps URL            : urlweb\n",
            "COMET INFO:     keeps hashtags       : True\n",
            "COMET INFO:     keeps username       : True\n",
            "COMET INFO:     l1_ratio             : 1\n",
            "COMET INFO:     lr_C                 : 1.0\n",
            "COMET INFO:     lr_class_weight      : 1\n",
            "COMET INFO:     lr_dual              : 1\n",
            "COMET INFO:     lr_fit_intercept     : True\n",
            "COMET INFO:     lr_intercept_scaling : 1\n",
            "COMET INFO:     lr_l1_ratio          : 1\n",
            "COMET INFO:     lr_max_iter          : 100\n",
            "COMET INFO:     lr_multi_class       : auto\n",
            "COMET INFO:     lr_n_jobs            : 1\n",
            "COMET INFO:     lr_penalty           : l2\n",
            "COMET INFO:     lr_random_state      : 1\n",
            "COMET INFO:     lr_solver            : lbfgs\n",
            "COMET INFO:     lr_tol               : 0.0001\n",
            "COMET INFO:     lr_verbose           : 1\n",
            "COMET INFO:     lr_warm_start        : 1\n",
            "COMET INFO:     max_iter             : 100\n",
            "COMET INFO:     model_type           : LinearSVC\n",
            "COMET INFO:     multi_class          : auto\n",
            "COMET INFO:     n_jobs               : 1\n",
            "COMET INFO:     penalty              : l2\n",
            "COMET INFO:     preprocessing        : Upsampling\n",
            "COMET INFO:     random_state         : 1\n",
            "COMET INFO:     removes puncutation  : True\n",
            "COMET INFO:     solver               : lbfgs\n",
            "COMET INFO:     tfidf_analyzer       : word\n",
            "COMET INFO:     tfidf_binary         : 1\n",
            "COMET INFO:     tfidf_decode_error   : strict\n",
            "COMET INFO:     tfidf_dtype          : <class 'numpy.float64'>\n",
            "COMET INFO:     tfidf_encoding       : utf-8\n",
            "COMET INFO:     tfidf_input          : content\n",
            "COMET INFO:     tfidf_lowercase      : True\n",
            "COMET INFO:     tfidf_max_df         : 1.0\n",
            "COMET INFO:     tfidf_max_features   : 1\n",
            "COMET INFO:     tfidf_min_df         : 1\n",
            "COMET INFO:     tfidf_ngram_range    : (1, 1)\n",
            "COMET INFO:     tfidf_norm           : l2\n",
            "COMET INFO:     tfidf_preprocessor   : 1\n",
            "COMET INFO:     tfidf_smooth_idf     : True\n",
            "COMET INFO:     tfidf_stop_words     : 1\n",
            "COMET INFO:     tfidf_strip_accents  : 1\n",
            "COMET INFO:     tfidf_sublinear_tf   : 1\n",
            "COMET INFO:     tfidf_token_pattern  : (?u)\\b\\w\\w+\\b\n",
            "COMET INFO:     tfidf_tokenizer      : 1\n",
            "COMET INFO:     tfidf_use_idf        : True\n",
            "COMET INFO:     tfidf_vocabulary     : 1\n",
            "COMET INFO:     tol                  : 0.0001\n",
            "COMET INFO:     use stopwords        : True\n",
            "COMET INFO:     verbose              : 1\n",
            "COMET INFO:     warm_start           : 1\n",
            "COMET INFO:   Uploads:\n",
            "COMET INFO:     code                : 1 (5 KB)\n",
            "COMET INFO:     environment details : 1\n",
            "COMET INFO:     filename            : 1\n",
            "COMET INFO:     installed packages  : 1\n",
            "COMET INFO:     notebook            : 1\n",
            "COMET INFO:     os packages         : 1\n",
            "COMET INFO: ---------------------------\n",
            "COMET INFO: Uploading stats to Comet before program termination (may take several seconds)\n",
            "COMET INFO: Waiting for completion of the file uploads (may take several seconds)\n",
            "COMET INFO: Still uploading\n"
          ],
          "name": "stderr"
        }
      ]
    },
    {
      "cell_type": "code",
      "metadata": {
        "colab_type": "code",
        "id": "yTn_2JaBq1nX",
        "colab": {}
      },
      "source": [
        "New = df_new.index"
      ],
      "execution_count": null,
      "outputs": []
    },
    {
      "cell_type": "code",
      "metadata": {
        "colab_type": "code",
        "id": "1mPT9TI4q2of",
        "colab": {}
      },
      "source": [
        "New = {'tweetid': New, 'sentiment': np.round(y_pred,0)}\n",
        "submission = pd.DataFrame(data= New)\n",
        "submission = submission[['tweetid', 'sentiment']]"
      ],
      "execution_count": null,
      "outputs": []
    },
    {
      "cell_type": "code",
      "metadata": {
        "colab_type": "code",
        "id": "e9L_HT1Qq7Y1",
        "colab": {
          "base_uri": "https://localhost:8080/",
          "height": 455
        },
        "outputId": "fa608518-da8b-4fe0-99c0-6fd535d75c6b"
      },
      "source": [
        "submission.set_index('tweetid')"
      ],
      "execution_count": null,
      "outputs": [
        {
          "output_type": "execute_result",
          "data": {
            "text/html": [
              "<div>\n",
              "<style scoped>\n",
              "    .dataframe tbody tr th:only-of-type {\n",
              "        vertical-align: middle;\n",
              "    }\n",
              "\n",
              "    .dataframe tbody tr th {\n",
              "        vertical-align: top;\n",
              "    }\n",
              "\n",
              "    .dataframe thead th {\n",
              "        text-align: right;\n",
              "    }\n",
              "</style>\n",
              "<table border=\"1\" class=\"dataframe\">\n",
              "  <thead>\n",
              "    <tr style=\"text-align: right;\">\n",
              "      <th></th>\n",
              "      <th>sentiment</th>\n",
              "    </tr>\n",
              "    <tr>\n",
              "      <th>tweetid</th>\n",
              "      <th></th>\n",
              "    </tr>\n",
              "  </thead>\n",
              "  <tbody>\n",
              "    <tr>\n",
              "      <th>169760</th>\n",
              "      <td>1</td>\n",
              "    </tr>\n",
              "    <tr>\n",
              "      <th>35326</th>\n",
              "      <td>1</td>\n",
              "    </tr>\n",
              "    <tr>\n",
              "      <th>224985</th>\n",
              "      <td>1</td>\n",
              "    </tr>\n",
              "    <tr>\n",
              "      <th>476263</th>\n",
              "      <td>1</td>\n",
              "    </tr>\n",
              "    <tr>\n",
              "      <th>872928</th>\n",
              "      <td>0</td>\n",
              "    </tr>\n",
              "    <tr>\n",
              "      <th>...</th>\n",
              "      <td>...</td>\n",
              "    </tr>\n",
              "    <tr>\n",
              "      <th>895714</th>\n",
              "      <td>1</td>\n",
              "    </tr>\n",
              "    <tr>\n",
              "      <th>875167</th>\n",
              "      <td>1</td>\n",
              "    </tr>\n",
              "    <tr>\n",
              "      <th>78329</th>\n",
              "      <td>2</td>\n",
              "    </tr>\n",
              "    <tr>\n",
              "      <th>867455</th>\n",
              "      <td>0</td>\n",
              "    </tr>\n",
              "    <tr>\n",
              "      <th>470892</th>\n",
              "      <td>1</td>\n",
              "    </tr>\n",
              "  </tbody>\n",
              "</table>\n",
              "<p>10546 rows × 1 columns</p>\n",
              "</div>"
            ],
            "text/plain": [
              "         sentiment\n",
              "tweetid           \n",
              "169760           1\n",
              "35326            1\n",
              "224985           1\n",
              "476263           1\n",
              "872928           0\n",
              "...            ...\n",
              "895714           1\n",
              "875167           1\n",
              "78329            2\n",
              "867455           0\n",
              "470892           1\n",
              "\n",
              "[10546 rows x 1 columns]"
            ]
          },
          "metadata": {
            "tags": []
          },
          "execution_count": 384
        }
      ]
    },
    {
      "cell_type": "code",
      "metadata": {
        "colab_type": "code",
        "id": "wRja5vBTYgji",
        "colab": {
          "base_uri": "https://localhost:8080/",
          "height": 677
        },
        "outputId": "70ef688f-75d1-4e68-c960-111c6dffc3d5"
      },
      "source": [
        "submission.head(20)"
      ],
      "execution_count": null,
      "outputs": [
        {
          "output_type": "execute_result",
          "data": {
            "text/html": [
              "<div>\n",
              "<style scoped>\n",
              "    .dataframe tbody tr th:only-of-type {\n",
              "        vertical-align: middle;\n",
              "    }\n",
              "\n",
              "    .dataframe tbody tr th {\n",
              "        vertical-align: top;\n",
              "    }\n",
              "\n",
              "    .dataframe thead th {\n",
              "        text-align: right;\n",
              "    }\n",
              "</style>\n",
              "<table border=\"1\" class=\"dataframe\">\n",
              "  <thead>\n",
              "    <tr style=\"text-align: right;\">\n",
              "      <th></th>\n",
              "      <th>tweetid</th>\n",
              "      <th>sentiment</th>\n",
              "    </tr>\n",
              "  </thead>\n",
              "  <tbody>\n",
              "    <tr>\n",
              "      <th>0</th>\n",
              "      <td>169760</td>\n",
              "      <td>1</td>\n",
              "    </tr>\n",
              "    <tr>\n",
              "      <th>1</th>\n",
              "      <td>35326</td>\n",
              "      <td>1</td>\n",
              "    </tr>\n",
              "    <tr>\n",
              "      <th>2</th>\n",
              "      <td>224985</td>\n",
              "      <td>1</td>\n",
              "    </tr>\n",
              "    <tr>\n",
              "      <th>3</th>\n",
              "      <td>476263</td>\n",
              "      <td>1</td>\n",
              "    </tr>\n",
              "    <tr>\n",
              "      <th>4</th>\n",
              "      <td>872928</td>\n",
              "      <td>0</td>\n",
              "    </tr>\n",
              "    <tr>\n",
              "      <th>5</th>\n",
              "      <td>75639</td>\n",
              "      <td>1</td>\n",
              "    </tr>\n",
              "    <tr>\n",
              "      <th>6</th>\n",
              "      <td>211536</td>\n",
              "      <td>0</td>\n",
              "    </tr>\n",
              "    <tr>\n",
              "      <th>7</th>\n",
              "      <td>569434</td>\n",
              "      <td>2</td>\n",
              "    </tr>\n",
              "    <tr>\n",
              "      <th>8</th>\n",
              "      <td>315368</td>\n",
              "      <td>2</td>\n",
              "    </tr>\n",
              "    <tr>\n",
              "      <th>9</th>\n",
              "      <td>591733</td>\n",
              "      <td>1</td>\n",
              "    </tr>\n",
              "    <tr>\n",
              "      <th>10</th>\n",
              "      <td>91983</td>\n",
              "      <td>-1</td>\n",
              "    </tr>\n",
              "    <tr>\n",
              "      <th>11</th>\n",
              "      <td>67249</td>\n",
              "      <td>1</td>\n",
              "    </tr>\n",
              "    <tr>\n",
              "      <th>12</th>\n",
              "      <td>143459</td>\n",
              "      <td>2</td>\n",
              "    </tr>\n",
              "    <tr>\n",
              "      <th>13</th>\n",
              "      <td>663535</td>\n",
              "      <td>2</td>\n",
              "    </tr>\n",
              "    <tr>\n",
              "      <th>14</th>\n",
              "      <td>20476</td>\n",
              "      <td>0</td>\n",
              "    </tr>\n",
              "    <tr>\n",
              "      <th>15</th>\n",
              "      <td>815297</td>\n",
              "      <td>0</td>\n",
              "    </tr>\n",
              "    <tr>\n",
              "      <th>16</th>\n",
              "      <td>274098</td>\n",
              "      <td>1</td>\n",
              "    </tr>\n",
              "    <tr>\n",
              "      <th>17</th>\n",
              "      <td>30045</td>\n",
              "      <td>1</td>\n",
              "    </tr>\n",
              "    <tr>\n",
              "      <th>18</th>\n",
              "      <td>681487</td>\n",
              "      <td>-1</td>\n",
              "    </tr>\n",
              "    <tr>\n",
              "      <th>19</th>\n",
              "      <td>708966</td>\n",
              "      <td>2</td>\n",
              "    </tr>\n",
              "  </tbody>\n",
              "</table>\n",
              "</div>"
            ],
            "text/plain": [
              "    tweetid  sentiment\n",
              "0    169760          1\n",
              "1     35326          1\n",
              "2    224985          1\n",
              "3    476263          1\n",
              "4    872928          0\n",
              "5     75639          1\n",
              "6    211536          0\n",
              "7    569434          2\n",
              "8    315368          2\n",
              "9    591733          1\n",
              "10    91983         -1\n",
              "11    67249          1\n",
              "12   143459          2\n",
              "13   663535          2\n",
              "14    20476          0\n",
              "15   815297          0\n",
              "16   274098          1\n",
              "17    30045          1\n",
              "18   681487         -1\n",
              "19   708966          2"
            ]
          },
          "metadata": {
            "tags": []
          },
          "execution_count": 385
        }
      ]
    },
    {
      "cell_type": "code",
      "metadata": {
        "colab_type": "code",
        "id": "VEon-u8coop2",
        "colab": {}
      },
      "source": [
        "submission.to_csv(\"kaggle.csv\",index  = False) #writing csv file"
      ],
      "execution_count": null,
      "outputs": []
    }
  ]
}