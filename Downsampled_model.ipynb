{
  "nbformat": 4,
  "nbformat_minor": 0,
  "metadata": {
    "colab": {
      "name": "upsampled_model.ipynb",
      "provenance": []
    },
    "kernelspec": {
      "name": "python3",
      "display_name": "Python 3"
    }
  },
  "cells": [
    {
      "cell_type": "code",
      "metadata": {
        "id": "ypQ__uPtm3i_",
        "colab_type": "code",
        "colab": {}
      },
      "source": [
        "# import libraries\n",
        "import numpy as np \n",
        "import pandas as pd\n",
        "import string\n",
        "from matplotlib import pyplot as plt"
      ],
      "execution_count": null,
      "outputs": []
    },
    {
      "cell_type": "code",
      "metadata": {
        "id": "SeSYbuaYnT6v",
        "colab_type": "code",
        "colab": {}
      },
      "source": [
        "#Import data\n",
        "df = pd.read_csv(\"https://raw.githubusercontent.com/monicafar147/classification-predict-streamlit-template/master/climate-change-belief-analysis/train.csv\")\n",
        "df1 = pd.read_csv(\"https://raw.githubusercontent.com/monicafar147/classification-predict-streamlit-template/master/climate-change-belief-analysis/test.csv\")"
      ],
      "execution_count": null,
      "outputs": []
    },
    {
      "cell_type": "code",
      "metadata": {
        "id": "RGBOd60LnvNm",
        "colab_type": "code",
        "colab": {}
      },
      "source": [
        "# set tweetid as index\n",
        "df_new = df1.set_index('tweetid')"
      ],
      "execution_count": null,
      "outputs": []
    },
    {
      "cell_type": "code",
      "metadata": {
        "id": "l9sHCX8Sn4_e",
        "colab_type": "code",
        "colab": {}
      },
      "source": [
        "# clean the train csv\n",
        "df_url = r'http[s]?://(?:[A-Za-z]|[0-9]|[$-_@.&+]|[!*\\(\\),]|(?:%[0-9A-Fa-f][0-9A-Fa-f]))+'\n",
        "subs_url = r'url-web'\n",
        "df['message'] = df['message'].replace(to_replace = df_url, value = subs_url, regex = True)\n",
        "df['message'] = df['message'].str.lower()"
      ],
      "execution_count": null,
      "outputs": []
    },
    {
      "cell_type": "code",
      "metadata": {
        "id": "Xo35KXp0oa_I",
        "colab_type": "code",
        "colab": {}
      },
      "source": [
        "# function to remove punctuations\n",
        "def remove_punctuation(post):\n",
        "    return ''.join([l for l in post if l not in string.punctuation])"
      ],
      "execution_count": null,
      "outputs": []
    },
    {
      "cell_type": "code",
      "metadata": {
        "id": "eCw2V_SXX110",
        "colab_type": "code",
        "colab": {}
      },
      "source": [
        "df['message'] = df['message'].apply(remove_punctuation)"
      ],
      "execution_count": null,
      "outputs": []
    },
    {
      "cell_type": "code",
      "metadata": {
        "id": "eSQsBV_wXtcG",
        "colab_type": "code",
        "colab": {}
      },
      "source": [
        "# clean the test csv\n",
        "df_test = r'http[s]?://(?:[A-Za-z]|[0-9]|[$-_@.&+]|[!*\\(\\),]|(?:%[0-9A-Fa-f][0-9A-Fa-f]))+'\n",
        "subs_urltest = r'url-web'\n",
        "df_new['message'] = df_new['message'].replace(to_replace = df_test, value = subs_urltest, regex = True)\n",
        "df_new['message'] = df_new['message'].str.lower()"
      ],
      "execution_count": null,
      "outputs": []
    },
    {
      "cell_type": "code",
      "metadata": {
        "id": "gqwlBPbvXumy",
        "colab_type": "code",
        "colab": {}
      },
      "source": [
        "# function to remove punctuations\n",
        "def remove_punctuation(post):\n",
        "    return ''.join([l for l in post if l not in string.punctuation])"
      ],
      "execution_count": null,
      "outputs": []
    },
    {
      "cell_type": "code",
      "metadata": {
        "id": "dcbcDW8OX96R",
        "colab_type": "code",
        "colab": {}
      },
      "source": [
        "df_new['message'] = df_new['message'].apply(remove_punctuation)"
      ],
      "execution_count": null,
      "outputs": []
    },
    {
      "cell_type": "code",
      "metadata": {
        "id": "JtIWRNoC4IC_",
        "colab_type": "code",
        "colab": {
          "base_uri": "https://localhost:8080/",
          "height": 424
        },
        "outputId": "c4116697-29fb-4d13-bca6-7c7323b43385"
      },
      "source": [
        "df"
      ],
      "execution_count": null,
      "outputs": [
        {
          "output_type": "execute_result",
          "data": {
            "text/html": [
              "<div>\n",
              "<style scoped>\n",
              "    .dataframe tbody tr th:only-of-type {\n",
              "        vertical-align: middle;\n",
              "    }\n",
              "\n",
              "    .dataframe tbody tr th {\n",
              "        vertical-align: top;\n",
              "    }\n",
              "\n",
              "    .dataframe thead th {\n",
              "        text-align: right;\n",
              "    }\n",
              "</style>\n",
              "<table border=\"1\" class=\"dataframe\">\n",
              "  <thead>\n",
              "    <tr style=\"text-align: right;\">\n",
              "      <th></th>\n",
              "      <th>sentiment</th>\n",
              "      <th>message</th>\n",
              "      <th>tweetid</th>\n",
              "    </tr>\n",
              "  </thead>\n",
              "  <tbody>\n",
              "    <tr>\n",
              "      <th>0</th>\n",
              "      <td>1</td>\n",
              "      <td>polyscimajor epa chief doesnt think carbon dio...</td>\n",
              "      <td>625221</td>\n",
              "    </tr>\n",
              "    <tr>\n",
              "      <th>1</th>\n",
              "      <td>1</td>\n",
              "      <td>its not like we lack evidence of anthropogenic...</td>\n",
              "      <td>126103</td>\n",
              "    </tr>\n",
              "    <tr>\n",
              "      <th>2</th>\n",
              "      <td>2</td>\n",
              "      <td>rt rawstory researchers say we have three year...</td>\n",
              "      <td>698562</td>\n",
              "    </tr>\n",
              "    <tr>\n",
              "      <th>3</th>\n",
              "      <td>1</td>\n",
              "      <td>todayinmaker wired  2016 was a pivotal year in...</td>\n",
              "      <td>573736</td>\n",
              "    </tr>\n",
              "    <tr>\n",
              "      <th>4</th>\n",
              "      <td>1</td>\n",
              "      <td>rt soynoviodetodas its 2016 and a racist sexis...</td>\n",
              "      <td>466954</td>\n",
              "    </tr>\n",
              "    <tr>\n",
              "      <th>...</th>\n",
              "      <td>...</td>\n",
              "      <td>...</td>\n",
              "      <td>...</td>\n",
              "    </tr>\n",
              "    <tr>\n",
              "      <th>15814</th>\n",
              "      <td>1</td>\n",
              "      <td>rt ezlusztig they took down the material on gl...</td>\n",
              "      <td>22001</td>\n",
              "    </tr>\n",
              "    <tr>\n",
              "      <th>15815</th>\n",
              "      <td>2</td>\n",
              "      <td>rt washingtonpost how climate change could be ...</td>\n",
              "      <td>17856</td>\n",
              "    </tr>\n",
              "    <tr>\n",
              "      <th>15816</th>\n",
              "      <td>0</td>\n",
              "      <td>notiven rt nytimesworld what does trump actual...</td>\n",
              "      <td>384248</td>\n",
              "    </tr>\n",
              "    <tr>\n",
              "      <th>15817</th>\n",
              "      <td>-1</td>\n",
              "      <td>rt sara8smiles hey liberals the climate change...</td>\n",
              "      <td>819732</td>\n",
              "    </tr>\n",
              "    <tr>\n",
              "      <th>15818</th>\n",
              "      <td>0</td>\n",
              "      <td>rt chetcannon kurteichenwalds climate change e...</td>\n",
              "      <td>806319</td>\n",
              "    </tr>\n",
              "  </tbody>\n",
              "</table>\n",
              "<p>15819 rows × 3 columns</p>\n",
              "</div>"
            ],
            "text/plain": [
              "       sentiment                                            message  tweetid\n",
              "0              1  polyscimajor epa chief doesnt think carbon dio...   625221\n",
              "1              1  its not like we lack evidence of anthropogenic...   126103\n",
              "2              2  rt rawstory researchers say we have three year...   698562\n",
              "3              1  todayinmaker wired  2016 was a pivotal year in...   573736\n",
              "4              1  rt soynoviodetodas its 2016 and a racist sexis...   466954\n",
              "...          ...                                                ...      ...\n",
              "15814          1  rt ezlusztig they took down the material on gl...    22001\n",
              "15815          2  rt washingtonpost how climate change could be ...    17856\n",
              "15816          0  notiven rt nytimesworld what does trump actual...   384248\n",
              "15817         -1  rt sara8smiles hey liberals the climate change...   819732\n",
              "15818          0  rt chetcannon kurteichenwalds climate change e...   806319\n",
              "\n",
              "[15819 rows x 3 columns]"
            ]
          },
          "metadata": {
            "tags": []
          },
          "execution_count": 396
        }
      ]
    },
    {
      "cell_type": "code",
      "metadata": {
        "id": "Tl5qQHbRqs2M",
        "colab_type": "code",
        "colab": {}
      },
      "source": [
        "# split into train and test\n",
        "from sklearn.model_selection import train_test_split\n",
        "\n",
        "X = df['message']  \n",
        "y = df['sentiment']\n",
        "X_unseen = df_new['message'] \n",
        "\n",
        "X_train, X_test, y_train, y_test = train_test_split(X, y, test_size=0.1, random_state=42)"
      ],
      "execution_count": null,
      "outputs": []
    },
    {
      "cell_type": "code",
      "metadata": {
        "id": "5pSTlma_rH8a",
        "colab_type": "code",
        "colab": {
          "base_uri": "https://localhost:8080/",
          "height": 424
        },
        "outputId": "080d4bea-a42a-45ff-8d73-4356bc3fab84"
      },
      "source": [
        " con = pd.concat([X_train, y_train], axis=1)\n",
        " con"
      ],
      "execution_count": null,
      "outputs": [
        {
          "output_type": "execute_result",
          "data": {
            "text/html": [
              "<div>\n",
              "<style scoped>\n",
              "    .dataframe tbody tr th:only-of-type {\n",
              "        vertical-align: middle;\n",
              "    }\n",
              "\n",
              "    .dataframe tbody tr th {\n",
              "        vertical-align: top;\n",
              "    }\n",
              "\n",
              "    .dataframe thead th {\n",
              "        text-align: right;\n",
              "    }\n",
              "</style>\n",
              "<table border=\"1\" class=\"dataframe\">\n",
              "  <thead>\n",
              "    <tr style=\"text-align: right;\">\n",
              "      <th></th>\n",
              "      <th>message</th>\n",
              "      <th>sentiment</th>\n",
              "    </tr>\n",
              "  </thead>\n",
              "  <tbody>\n",
              "    <tr>\n",
              "      <th>14201</th>\n",
              "      <td>why do some people still doubt global warming ...</td>\n",
              "      <td>1</td>\n",
              "    </tr>\n",
              "    <tr>\n",
              "      <th>14693</th>\n",
              "      <td>rt trialwatcher1 drmartyfox sheriffclarke loud...</td>\n",
              "      <td>-1</td>\n",
              "    </tr>\n",
              "    <tr>\n",
              "      <th>3745</th>\n",
              "      <td>rt natgeochannel watch beforetheflood right he...</td>\n",
              "      <td>1</td>\n",
              "    </tr>\n",
              "    <tr>\n",
              "      <th>15273</th>\n",
              "      <td>rt greenpeace what if climate change is just a...</td>\n",
              "      <td>1</td>\n",
              "    </tr>\n",
              "    <tr>\n",
              "      <th>10324</th>\n",
              "      <td>rt emorwee in which i casually speculate that ...</td>\n",
              "      <td>1</td>\n",
              "    </tr>\n",
              "    <tr>\n",
              "      <th>...</th>\n",
              "      <td>...</td>\n",
              "      <td>...</td>\n",
              "    </tr>\n",
              "    <tr>\n",
              "      <th>13418</th>\n",
              "      <td>rt safeagain1 russias oil and gas industry wil...</td>\n",
              "      <td>1</td>\n",
              "    </tr>\n",
              "    <tr>\n",
              "      <th>5390</th>\n",
              "      <td>rt businessinsider a climate change skeptic is...</td>\n",
              "      <td>1</td>\n",
              "    </tr>\n",
              "    <tr>\n",
              "      <th>860</th>\n",
              "      <td>rt bramnessellen we need to tap into the scien...</td>\n",
              "      <td>1</td>\n",
              "    </tr>\n",
              "    <tr>\n",
              "      <th>15795</th>\n",
              "      <td>china’s coal use drops showing commitment to c...</td>\n",
              "      <td>2</td>\n",
              "    </tr>\n",
              "    <tr>\n",
              "      <th>7270</th>\n",
              "      <td>rt climatecentral 35 seconds more than 100 cou...</td>\n",
              "      <td>1</td>\n",
              "    </tr>\n",
              "  </tbody>\n",
              "</table>\n",
              "<p>14237 rows × 2 columns</p>\n",
              "</div>"
            ],
            "text/plain": [
              "                                                 message  sentiment\n",
              "14201  why do some people still doubt global warming ...          1\n",
              "14693  rt trialwatcher1 drmartyfox sheriffclarke loud...         -1\n",
              "3745   rt natgeochannel watch beforetheflood right he...          1\n",
              "15273  rt greenpeace what if climate change is just a...          1\n",
              "10324  rt emorwee in which i casually speculate that ...          1\n",
              "...                                                  ...        ...\n",
              "13418  rt safeagain1 russias oil and gas industry wil...          1\n",
              "5390   rt businessinsider a climate change skeptic is...          1\n",
              "860    rt bramnessellen we need to tap into the scien...          1\n",
              "15795  china’s coal use drops showing commitment to c...          2\n",
              "7270   rt climatecentral 35 seconds more than 100 cou...          1\n",
              "\n",
              "[14237 rows x 2 columns]"
            ]
          },
          "metadata": {
            "tags": []
          },
          "execution_count": 398
        }
      ]
    },
    {
      "cell_type": "code",
      "metadata": {
        "id": "k251I3DbrUhN",
        "colab_type": "code",
        "colab": {}
      },
      "source": [
        "pro = con[con['sentiment']==1]\n",
        "news = con[con['sentiment']==2]\n",
        "neutral = con[con['sentiment']==0]\n",
        "anti = con[con['sentiment']==-1]"
      ],
      "execution_count": null,
      "outputs": []
    },
    {
      "cell_type": "code",
      "metadata": {
        "id": "amoCuHYlrUno",
        "colab_type": "code",
        "colab": {
          "base_uri": "https://localhost:8080/",
          "height": 72
        },
        "outputId": "095dcd96-f263-4210-98d2-abefd5f9e179"
      },
      "source": [
        "# As usual, we start by importing our modules\n",
        "from sklearn.utils import resample\n",
        "# Upsample minority\n",
        "spam_upsampled1 = resample(pro,\n",
        "                          replace=True, # sample with replacement (we need to duplicate observations)\n",
        "                          n_samples=len(anti), # match number in minority class\n",
        "                          random_state=42) # reproducible results\n",
        "\n",
        "# Combine upsampled minority class with majority class\n",
        "upsampled = pd.concat([spam_upsampled1, anti])\n",
        "\n",
        "# Check new class counts\n",
        "upsampled['sentiment'].value_counts()"
      ],
      "execution_count": null,
      "outputs": [
        {
          "output_type": "execute_result",
          "data": {
            "text/plain": [
              " 1    1170\n",
              "-1    1170\n",
              "Name: sentiment, dtype: int64"
            ]
          },
          "metadata": {
            "tags": []
          },
          "execution_count": 400
        }
      ]
    },
    {
      "cell_type": "code",
      "metadata": {
        "id": "qHpmgqQorU1A",
        "colab_type": "code",
        "colab": {
          "base_uri": "https://localhost:8080/",
          "height": 90
        },
        "outputId": "bd6470aa-0aac-4387-b23b-453612ad85f2"
      },
      "source": [
        "# As usual, we start by importing our modules\n",
        "from sklearn.utils import resample\n",
        "# Upsample minority\n",
        "spam_upsampled2 = resample(news,\n",
        "                          replace=True, # sample with replacement (we need to duplicate observations)\n",
        "                          n_samples=len(anti), # match number in minority class\n",
        "                          random_state=27) # reproducible results\n",
        "\n",
        "# Combine upsampled minority class with majority class\n",
        "upsampled = pd.concat([spam_upsampled1, spam_upsampled2, anti])\n",
        "\n",
        "# Check new class counts\n",
        "upsampled['sentiment'].value_counts()"
      ],
      "execution_count": null,
      "outputs": [
        {
          "output_type": "execute_result",
          "data": {
            "text/plain": [
              " 1    1170\n",
              "-1    1170\n",
              " 2    1170\n",
              "Name: sentiment, dtype: int64"
            ]
          },
          "metadata": {
            "tags": []
          },
          "execution_count": 401
        }
      ]
    },
    {
      "cell_type": "code",
      "metadata": {
        "id": "rlLufMHxrUzI",
        "colab_type": "code",
        "colab": {
          "base_uri": "https://localhost:8080/",
          "height": 108
        },
        "outputId": "c5bb2a63-ad9e-4c67-acb4-68ba52c9bbf3"
      },
      "source": [
        "# As usual, we start by importing our modules\n",
        "from sklearn.utils import resample\n",
        "# Upsample minority\n",
        "spam_upsampled3 = resample(neutral,\n",
        "                          replace=True, # sample with replacement (we need to duplicate observations)\n",
        "                          n_samples=len(anti), # match number in minority class\n",
        "                          random_state=42) # reproducible results\n",
        "\n",
        "# Combine upsampled minority class with majority class\n",
        "upsampled = pd.concat([spam_upsampled1, spam_upsampled2, spam_upsampled3, anti])\n",
        "\n",
        "# Check new class counts\n",
        "upsampled['sentiment'].value_counts()"
      ],
      "execution_count": null,
      "outputs": [
        {
          "output_type": "execute_result",
          "data": {
            "text/plain": [
              "-1    1170\n",
              " 2    1170\n",
              " 1    1170\n",
              " 0    1170\n",
              "Name: sentiment, dtype: int64"
            ]
          },
          "metadata": {
            "tags": []
          },
          "execution_count": 402
        }
      ]
    },
    {
      "cell_type": "code",
      "metadata": {
        "id": "FjJw0Ak130xa",
        "colab_type": "code",
        "colab": {
          "base_uri": "https://localhost:8080/",
          "height": 424
        },
        "outputId": "bbd30cbd-ed25-4b51-8909-6b605c1c0d6f"
      },
      "source": [
        "upsampled"
      ],
      "execution_count": null,
      "outputs": [
        {
          "output_type": "execute_result",
          "data": {
            "text/html": [
              "<div>\n",
              "<style scoped>\n",
              "    .dataframe tbody tr th:only-of-type {\n",
              "        vertical-align: middle;\n",
              "    }\n",
              "\n",
              "    .dataframe tbody tr th {\n",
              "        vertical-align: top;\n",
              "    }\n",
              "\n",
              "    .dataframe thead th {\n",
              "        text-align: right;\n",
              "    }\n",
              "</style>\n",
              "<table border=\"1\" class=\"dataframe\">\n",
              "  <thead>\n",
              "    <tr style=\"text-align: right;\">\n",
              "      <th></th>\n",
              "      <th>message</th>\n",
              "      <th>sentiment</th>\n",
              "    </tr>\n",
              "  </thead>\n",
              "  <tbody>\n",
              "    <tr>\n",
              "      <th>13245</th>\n",
              "      <td>rt nytimes air conditioning created a demand t...</td>\n",
              "      <td>1</td>\n",
              "    </tr>\n",
              "    <tr>\n",
              "      <th>15167</th>\n",
              "      <td>rt cechruod best way to restore environments i...</td>\n",
              "      <td>1</td>\n",
              "    </tr>\n",
              "    <tr>\n",
              "      <th>6735</th>\n",
              "      <td>aljazeera english hdlivestreamclimate sos inno...</td>\n",
              "      <td>1</td>\n",
              "    </tr>\n",
              "    <tr>\n",
              "      <th>1863</th>\n",
              "      <td>rt dralisonstweets winlows on zombification of...</td>\n",
              "      <td>1</td>\n",
              "    </tr>\n",
              "    <tr>\n",
              "      <th>13616</th>\n",
              "      <td>rt planetenausicaa ourocean conference in malt...</td>\n",
              "      <td>1</td>\n",
              "    </tr>\n",
              "    <tr>\n",
              "      <th>...</th>\n",
              "      <td>...</td>\n",
              "      <td>...</td>\n",
              "    </tr>\n",
              "    <tr>\n",
              "      <th>13035</th>\n",
              "      <td>rt seanspicier for the 1st time in 8 years the...</td>\n",
              "      <td>-1</td>\n",
              "    </tr>\n",
              "    <tr>\n",
              "      <th>5051</th>\n",
              "      <td>rt tylerabbett3 jacobahernz its climate change...</td>\n",
              "      <td>-1</td>\n",
              "    </tr>\n",
              "    <tr>\n",
              "      <th>6949</th>\n",
              "      <td>gtgt131262514 gtliberals now think summer is g...</td>\n",
              "      <td>-1</td>\n",
              "    </tr>\n",
              "    <tr>\n",
              "      <th>13526</th>\n",
              "      <td>rt mitchellvii isnt it ironic that every singl...</td>\n",
              "      <td>-1</td>\n",
              "    </tr>\n",
              "    <tr>\n",
              "      <th>11964</th>\n",
              "      <td>rt tan123 crony capitalistbillionaire musk wan...</td>\n",
              "      <td>-1</td>\n",
              "    </tr>\n",
              "  </tbody>\n",
              "</table>\n",
              "<p>4680 rows × 2 columns</p>\n",
              "</div>"
            ],
            "text/plain": [
              "                                                 message  sentiment\n",
              "13245  rt nytimes air conditioning created a demand t...          1\n",
              "15167  rt cechruod best way to restore environments i...          1\n",
              "6735   aljazeera english hdlivestreamclimate sos inno...          1\n",
              "1863   rt dralisonstweets winlows on zombification of...          1\n",
              "13616  rt planetenausicaa ourocean conference in malt...          1\n",
              "...                                                  ...        ...\n",
              "13035  rt seanspicier for the 1st time in 8 years the...         -1\n",
              "5051   rt tylerabbett3 jacobahernz its climate change...         -1\n",
              "6949   gtgt131262514 gtliberals now think summer is g...         -1\n",
              "13526  rt mitchellvii isnt it ironic that every singl...         -1\n",
              "11964  rt tan123 crony capitalistbillionaire musk wan...         -1\n",
              "\n",
              "[4680 rows x 2 columns]"
            ]
          },
          "metadata": {
            "tags": []
          },
          "execution_count": 403
        }
      ]
    },
    {
      "cell_type": "code",
      "metadata": {
        "id": "1BKubmFnrUvO",
        "colab_type": "code",
        "colab": {}
      },
      "source": [
        "# model\n",
        "from sklearn.model_selection import train_test_split\n",
        "\n",
        "X_train1 = upsampled['message']  \n",
        "y_train1 = upsampled['sentiment']\n",
        "X_unseen = df_new['message'] "
      ],
      "execution_count": null,
      "outputs": []
    },
    {
      "cell_type": "code",
      "metadata": {
        "id": "daZoaWtfouIh",
        "colab_type": "code",
        "colab": {
          "base_uri": "https://localhost:8080/",
          "height": 435
        },
        "outputId": "6af1f38a-8c68-4e9b-f5fc-73d4508a33e2"
      },
      "source": [
        "from sklearn.pipeline import Pipeline\n",
        "from sklearn.feature_extraction.text import TfidfVectorizer\n",
        "from sklearn.linear_model import LogisticRegression\n",
        "\n",
        "\n",
        "text_clf = Pipeline([('tfidf', TfidfVectorizer()),\n",
        "                     ('lr', LogisticRegression())\n",
        "                      ])\n",
        "\n",
        "# Feed the training data through the pipeline\n",
        "text_clf.fit(X_train1, y_train1) "
      ],
      "execution_count": null,
      "outputs": [
        {
          "output_type": "execute_result",
          "data": {
            "text/plain": [
              "Pipeline(memory=None,\n",
              "         steps=[('tfidf',\n",
              "                 TfidfVectorizer(analyzer='word', binary=False,\n",
              "                                 decode_error='strict',\n",
              "                                 dtype=<class 'numpy.float64'>,\n",
              "                                 encoding='utf-8', input='content',\n",
              "                                 lowercase=True, max_df=1.0, max_features=None,\n",
              "                                 min_df=1, ngram_range=(1, 1), norm='l2',\n",
              "                                 preprocessor=None, smooth_idf=True,\n",
              "                                 stop_words=None, strip_accents=None,\n",
              "                                 sublinear_tf=False,\n",
              "                                 token_pattern='(?u)\\\\b\\\\w\\\\w+\\\\b',\n",
              "                                 tokenizer=None, use_idf=True,\n",
              "                                 vocabulary=None)),\n",
              "                ('lr',\n",
              "                 LogisticRegression(C=1.0, class_weight=None, dual=False,\n",
              "                                    fit_intercept=True, intercept_scaling=1,\n",
              "                                    l1_ratio=None, max_iter=100,\n",
              "                                    multi_class='auto', n_jobs=None,\n",
              "                                    penalty='l2', random_state=None,\n",
              "                                    solver='lbfgs', tol=0.0001, verbose=0,\n",
              "                                    warm_start=False))],\n",
              "         verbose=False)"
            ]
          },
          "metadata": {
            "tags": []
          },
          "execution_count": 405
        }
      ]
    },
    {
      "cell_type": "code",
      "metadata": {
        "id": "M9t7_4ELo1v9",
        "colab_type": "code",
        "colab": {}
      },
      "source": [
        "from sklearn.feature_extraction.text import CountVectorizer\n",
        "count_vect = CountVectorizer()\n",
        "\n",
        "X_train_counts = count_vect.fit_transform(X_train1)"
      ],
      "execution_count": null,
      "outputs": []
    },
    {
      "cell_type": "code",
      "metadata": {
        "id": "jUajL3vJo6ja",
        "colab_type": "code",
        "colab": {}
      },
      "source": [
        "predictions = text_clf.predict(X_test)"
      ],
      "execution_count": null,
      "outputs": []
    },
    {
      "cell_type": "code",
      "metadata": {
        "id": "vHJioxqzqwcy",
        "colab_type": "code",
        "colab": {}
      },
      "source": [
        "y_pred = text_clf.predict(X_unseen)"
      ],
      "execution_count": null,
      "outputs": []
    },
    {
      "cell_type": "code",
      "metadata": {
        "id": "kxDNPlnGo-It",
        "colab_type": "code",
        "colab": {
          "base_uri": "https://localhost:8080/",
          "height": 90
        },
        "outputId": "7c96104c-91eb-4939-c0fb-93eb6ff4b4af"
      },
      "source": [
        "# Report the confusion matrix\n",
        "from sklearn import metrics\n",
        "print(metrics.confusion_matrix(y_test,predictions))"
      ],
      "execution_count": null,
      "outputs": [
        {
          "output_type": "stream",
          "text": [
            "[[ 92  17  14   3]\n",
            " [ 49  99  55  21]\n",
            " [102 114 530 149]\n",
            " [  9  10  34 284]]\n"
          ],
          "name": "stdout"
        }
      ]
    },
    {
      "cell_type": "code",
      "metadata": {
        "id": "J_3PAO2ao_JQ",
        "colab_type": "code",
        "colab": {
          "base_uri": "https://localhost:8080/",
          "height": 217
        },
        "outputId": "76c38ba9-513f-459d-da34-8722d6e5aca8"
      },
      "source": [
        "# classification report\n",
        "print(metrics.classification_report(y_test,predictions))"
      ],
      "execution_count": null,
      "outputs": [
        {
          "output_type": "stream",
          "text": [
            "              precision    recall  f1-score   support\n",
            "\n",
            "          -1       0.37      0.73      0.49       126\n",
            "           0       0.41      0.44      0.43       224\n",
            "           1       0.84      0.59      0.69       895\n",
            "           2       0.62      0.84      0.72       337\n",
            "\n",
            "    accuracy                           0.64      1582\n",
            "   macro avg       0.56      0.65      0.58      1582\n",
            "weighted avg       0.69      0.64      0.64      1582\n",
            "\n"
          ],
          "name": "stdout"
        }
      ]
    },
    {
      "cell_type": "code",
      "metadata": {
        "id": "-ogBCOpprLsj",
        "colab_type": "code",
        "colab": {
          "base_uri": "https://localhost:8080/",
          "height": 35
        },
        "outputId": "10a5ff66-da1a-4f63-adb0-a45a58c2aff0"
      },
      "source": [
        "# print accuracy\n",
        "print(metrics.accuracy_score(y_test,predictions))"
      ],
      "execution_count": null,
      "outputs": [
        {
          "output_type": "stream",
          "text": [
            "0.6352718078381795\n"
          ],
          "name": "stdout"
        }
      ]
    },
    {
      "cell_type": "code",
      "metadata": {
        "id": "yTn_2JaBq1nX",
        "colab_type": "code",
        "colab": {}
      },
      "source": [
        "New = df_new.index"
      ],
      "execution_count": null,
      "outputs": []
    },
    {
      "cell_type": "code",
      "metadata": {
        "id": "1mPT9TI4q2of",
        "colab_type": "code",
        "colab": {}
      },
      "source": [
        "New = {'tweetid': New, 'sentiment': np.round(y_pred,0)}\n",
        "submission = pd.DataFrame(data= New)\n",
        "submission = submission[['tweetid', 'sentiment']]"
      ],
      "execution_count": null,
      "outputs": []
    },
    {
      "cell_type": "code",
      "metadata": {
        "id": "e9L_HT1Qq7Y1",
        "colab_type": "code",
        "colab": {
          "base_uri": "https://localhost:8080/",
          "height": 455
        },
        "outputId": "682e3332-5160-4074-d02d-1041ab456548"
      },
      "source": [
        "submission.set_index('tweetid')"
      ],
      "execution_count": null,
      "outputs": [
        {
          "output_type": "execute_result",
          "data": {
            "text/html": [
              "<div>\n",
              "<style scoped>\n",
              "    .dataframe tbody tr th:only-of-type {\n",
              "        vertical-align: middle;\n",
              "    }\n",
              "\n",
              "    .dataframe tbody tr th {\n",
              "        vertical-align: top;\n",
              "    }\n",
              "\n",
              "    .dataframe thead th {\n",
              "        text-align: right;\n",
              "    }\n",
              "</style>\n",
              "<table border=\"1\" class=\"dataframe\">\n",
              "  <thead>\n",
              "    <tr style=\"text-align: right;\">\n",
              "      <th></th>\n",
              "      <th>sentiment</th>\n",
              "    </tr>\n",
              "    <tr>\n",
              "      <th>tweetid</th>\n",
              "      <th></th>\n",
              "    </tr>\n",
              "  </thead>\n",
              "  <tbody>\n",
              "    <tr>\n",
              "      <th>169760</th>\n",
              "      <td>1</td>\n",
              "    </tr>\n",
              "    <tr>\n",
              "      <th>35326</th>\n",
              "      <td>0</td>\n",
              "    </tr>\n",
              "    <tr>\n",
              "      <th>224985</th>\n",
              "      <td>1</td>\n",
              "    </tr>\n",
              "    <tr>\n",
              "      <th>476263</th>\n",
              "      <td>1</td>\n",
              "    </tr>\n",
              "    <tr>\n",
              "      <th>872928</th>\n",
              "      <td>0</td>\n",
              "    </tr>\n",
              "    <tr>\n",
              "      <th>...</th>\n",
              "      <td>...</td>\n",
              "    </tr>\n",
              "    <tr>\n",
              "      <th>895714</th>\n",
              "      <td>2</td>\n",
              "    </tr>\n",
              "    <tr>\n",
              "      <th>875167</th>\n",
              "      <td>2</td>\n",
              "    </tr>\n",
              "    <tr>\n",
              "      <th>78329</th>\n",
              "      <td>0</td>\n",
              "    </tr>\n",
              "    <tr>\n",
              "      <th>867455</th>\n",
              "      <td>0</td>\n",
              "    </tr>\n",
              "    <tr>\n",
              "      <th>470892</th>\n",
              "      <td>-1</td>\n",
              "    </tr>\n",
              "  </tbody>\n",
              "</table>\n",
              "<p>10546 rows × 1 columns</p>\n",
              "</div>"
            ],
            "text/plain": [
              "         sentiment\n",
              "tweetid           \n",
              "169760           1\n",
              "35326            0\n",
              "224985           1\n",
              "476263           1\n",
              "872928           0\n",
              "...            ...\n",
              "895714           2\n",
              "875167           2\n",
              "78329            0\n",
              "867455           0\n",
              "470892          -1\n",
              "\n",
              "[10546 rows x 1 columns]"
            ]
          },
          "metadata": {
            "tags": []
          },
          "execution_count": 414
        }
      ]
    },
    {
      "cell_type": "code",
      "metadata": {
        "id": "wRja5vBTYgji",
        "colab_type": "code",
        "colab": {
          "base_uri": "https://localhost:8080/",
          "height": 677
        },
        "outputId": "02faa804-f60a-46e4-c070-3e13c02cba69"
      },
      "source": [
        "submission.head(20)"
      ],
      "execution_count": null,
      "outputs": [
        {
          "output_type": "execute_result",
          "data": {
            "text/html": [
              "<div>\n",
              "<style scoped>\n",
              "    .dataframe tbody tr th:only-of-type {\n",
              "        vertical-align: middle;\n",
              "    }\n",
              "\n",
              "    .dataframe tbody tr th {\n",
              "        vertical-align: top;\n",
              "    }\n",
              "\n",
              "    .dataframe thead th {\n",
              "        text-align: right;\n",
              "    }\n",
              "</style>\n",
              "<table border=\"1\" class=\"dataframe\">\n",
              "  <thead>\n",
              "    <tr style=\"text-align: right;\">\n",
              "      <th></th>\n",
              "      <th>tweetid</th>\n",
              "      <th>sentiment</th>\n",
              "    </tr>\n",
              "  </thead>\n",
              "  <tbody>\n",
              "    <tr>\n",
              "      <th>0</th>\n",
              "      <td>169760</td>\n",
              "      <td>1</td>\n",
              "    </tr>\n",
              "    <tr>\n",
              "      <th>1</th>\n",
              "      <td>35326</td>\n",
              "      <td>0</td>\n",
              "    </tr>\n",
              "    <tr>\n",
              "      <th>2</th>\n",
              "      <td>224985</td>\n",
              "      <td>1</td>\n",
              "    </tr>\n",
              "    <tr>\n",
              "      <th>3</th>\n",
              "      <td>476263</td>\n",
              "      <td>1</td>\n",
              "    </tr>\n",
              "    <tr>\n",
              "      <th>4</th>\n",
              "      <td>872928</td>\n",
              "      <td>0</td>\n",
              "    </tr>\n",
              "    <tr>\n",
              "      <th>5</th>\n",
              "      <td>75639</td>\n",
              "      <td>2</td>\n",
              "    </tr>\n",
              "    <tr>\n",
              "      <th>6</th>\n",
              "      <td>211536</td>\n",
              "      <td>0</td>\n",
              "    </tr>\n",
              "    <tr>\n",
              "      <th>7</th>\n",
              "      <td>569434</td>\n",
              "      <td>2</td>\n",
              "    </tr>\n",
              "    <tr>\n",
              "      <th>8</th>\n",
              "      <td>315368</td>\n",
              "      <td>2</td>\n",
              "    </tr>\n",
              "    <tr>\n",
              "      <th>9</th>\n",
              "      <td>591733</td>\n",
              "      <td>2</td>\n",
              "    </tr>\n",
              "    <tr>\n",
              "      <th>10</th>\n",
              "      <td>91983</td>\n",
              "      <td>-1</td>\n",
              "    </tr>\n",
              "    <tr>\n",
              "      <th>11</th>\n",
              "      <td>67249</td>\n",
              "      <td>1</td>\n",
              "    </tr>\n",
              "    <tr>\n",
              "      <th>12</th>\n",
              "      <td>143459</td>\n",
              "      <td>2</td>\n",
              "    </tr>\n",
              "    <tr>\n",
              "      <th>13</th>\n",
              "      <td>663535</td>\n",
              "      <td>2</td>\n",
              "    </tr>\n",
              "    <tr>\n",
              "      <th>14</th>\n",
              "      <td>20476</td>\n",
              "      <td>-1</td>\n",
              "    </tr>\n",
              "    <tr>\n",
              "      <th>15</th>\n",
              "      <td>815297</td>\n",
              "      <td>0</td>\n",
              "    </tr>\n",
              "    <tr>\n",
              "      <th>16</th>\n",
              "      <td>274098</td>\n",
              "      <td>1</td>\n",
              "    </tr>\n",
              "    <tr>\n",
              "      <th>17</th>\n",
              "      <td>30045</td>\n",
              "      <td>2</td>\n",
              "    </tr>\n",
              "    <tr>\n",
              "      <th>18</th>\n",
              "      <td>681487</td>\n",
              "      <td>-1</td>\n",
              "    </tr>\n",
              "    <tr>\n",
              "      <th>19</th>\n",
              "      <td>708966</td>\n",
              "      <td>2</td>\n",
              "    </tr>\n",
              "  </tbody>\n",
              "</table>\n",
              "</div>"
            ],
            "text/plain": [
              "    tweetid  sentiment\n",
              "0    169760          1\n",
              "1     35326          0\n",
              "2    224985          1\n",
              "3    476263          1\n",
              "4    872928          0\n",
              "5     75639          2\n",
              "6    211536          0\n",
              "7    569434          2\n",
              "8    315368          2\n",
              "9    591733          2\n",
              "10    91983         -1\n",
              "11    67249          1\n",
              "12   143459          2\n",
              "13   663535          2\n",
              "14    20476         -1\n",
              "15   815297          0\n",
              "16   274098          1\n",
              "17    30045          2\n",
              "18   681487         -1\n",
              "19   708966          2"
            ]
          },
          "metadata": {
            "tags": []
          },
          "execution_count": 415
        }
      ]
    },
    {
      "cell_type": "code",
      "metadata": {
        "id": "VEon-u8coop2",
        "colab_type": "code",
        "colab": {}
      },
      "source": [
        "submission.to_csv(\"kaggle.csv\",index  = False) #writing csv file"
      ],
      "execution_count": null,
      "outputs": []
    }
  ]
}